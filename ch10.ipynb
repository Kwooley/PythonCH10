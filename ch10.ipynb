{
 "cells": [
  {
   "cell_type": "markdown",
   "metadata": {},
   "source": [
    "<style>\n",
    "\th1 {\n",
    "\t--\tbackground-color: grey;\n",
    "\t\tcolor: yellow\n",
    "\t\tborder: 3px solid grey\n",
    "\n",
    "\t}\n",
    "\tp {\n",
    "\t\tbackground-color: grey;\n",
    "\t\tcolor: white\n",
    "\t\tborder: 3px solid grey\n",
    "\n",
    "\t}\n",
    "</style>\n",
    "<h1> Chapter 10 Classes and Object-Oriented Programming</h1>\n",
    "\n",
    "- Class Definition\n",
    "- Non-Public Attributes\n",
    "- Getter and Setter Methods\n",
    "- Decorators\n",
    "- @property Decorator\n",
    "- UML\n",
    "- Classs Attributes\n",
    "- Class Customization\n",
    "- Inheritance"
   ]
  },
  {
   "cell_type": "markdown",
   "metadata": {},
   "source": [
    "***\n",
    "\n",
    "## <p style=\"background-color: grey; color: white \"> ◼️  Classes and Object-Oriented Programming </p>\n",
    "# <p style=\"font-family: Arial; font-size:1.4em;color:red;\"> 1. Constructor, Property, Getter and Setter, _ and __</p>\n"
   ]
  },
  {
   "cell_type": "markdown",
   "metadata": {},
   "source": [
    "### 1. Constructor\n",
    "\n",
    "A method is a function defined within a class. The __init__ method, commonly known as a constructor, is responsible for setting up the initial state of a new instance.\n",
    "In Python, the __init__ method takes self as the first parameter, which represents the instance being created. Additional parameters can be passed to the constructor to customize the initialization. This method does not return anything explicitly, as it is used solely for initialization. Constructors are essential for creating objects with predefined properties and behavior, supporting encapsulation and data integrity within a class\n"
   ]
  },
  {
   "cell_type": "markdown",
   "metadata": {},
   "source": [
    "#### <p style=\"font-family: Arial; font-size:1.4em; background-color: yellow; color:black;\"> Problem #1.0 </p>\n",
    "\n",
    "#### Make a Class Student with the following attributes and constructor\n",
    "```\n",
    "class Student:\n",
    "       def __init__(self):\n",
    "               self.sid = 0\n",
    "               self.sname = ‘ ‘\n",
    "\n",
    "        def __init__(self, sid, sname):\n",
    "                self.sid = sid\n",
    "                self.sname = sname\n",
    "\n",
    "s1 = Student ( )\n",
    "print (s1.sid)\n",
    "print (s1.sname)\n",
    "\n",
    "sid = 9001; sname = 'Jane'\n",
    "s2 = Student (sid, sname)\n",
    "print (s2.sid)\n",
    "print (s2.sname)\n",
    "\n",
    "```"
   ]
  },
  {
   "cell_type": "code",
   "execution_count": 9,
   "metadata": {},
   "outputs": [],
   "source": [
    "# Make the same code as above using the constructor\n"
   ]
  },
  {
   "cell_type": "markdown",
   "metadata": {},
   "source": [
    "---"
   ]
  },
  {
   "cell_type": "markdown",
   "metadata": {},
   "source": [
    "#### <p style=\"font-family: Arial; font-size:1.4em; background-color: yellow; color:black;\"> Problem #1.1 </p>\n",
    "\n",
    "#### Make a Class Rectangle with the following attributes and constructor\n",
    "```\n",
    "class Rectangle:\n",
    "\n",
    "       def __init__(self, width, height):\n",
    "               self.width = width\n",
    "               self.height = height\n",
    "      \n",
    "       def getArea(self):\n",
    "               return self.width * self.height\n",
    "        \n",
    "\n",
    "r1 = Rectangle(10, 20)\n",
    "print(r1.getArea())\n",
    "```\n"
   ]
  },
  {
   "cell_type": "code",
   "execution_count": 10,
   "metadata": {},
   "outputs": [],
   "source": [
    "# Make the same code as above using the constructor\n"
   ]
  },
  {
   "cell_type": "markdown",
   "metadata": {},
   "source": [
    "#### <p style=\"font-family: Arial; font-size:1.4em; background-color: yellow; color:black;\"> Problem #1.2 </p>\n",
    "\n",
    "#### try to access the width and height directly \n",
    "```\n",
    "r1 = Rectangle(10, 20)\n",
    "print(r1.width)\n",
    "print(r1.height)\n",
    "```\n"
   ]
  },
  {
   "cell_type": "code",
   "execution_count": 14,
   "metadata": {},
   "outputs": [],
   "source": [
    "## Answer to the above code. Is it possble to access the width and height directly?\n",
    "\n",
    "\n",
    "## In Python, we can use the __ prefix to make attributes private.\n",
    "## Private attributes cannot be accessed directly from outside the class.\n",
    "## We need to use the getter and setter methods to access and modify private attributes.\n"
   ]
  },
  {
   "cell_type": "markdown",
   "metadata": {},
   "source": [
    "--- "
   ]
  },
  {
   "cell_type": "markdown",
   "metadata": {},
   "source": [
    "## 2. Understanding the _ prefix\n",
    "\n",
    "- _width is a non-public attribute.\n",
    "- _width is accessible directly from outside the class even though it is a non-public attribute. Because it is just a convention.\n",
    "- We can use the getter and setter methods to access and modify _width.\n"
   ]
  },
  {
   "cell_type": "markdown",
   "metadata": {},
   "source": [
    "### make the following code and figure out the difference between the code with _ prefix and the code without _ prefix.\n"
   ]
  },
  {
   "cell_type": "code",
   "execution_count": null,
   "metadata": {},
   "outputs": [],
   "source": [
    "class Point:\n",
    "       def __init__(self,x,y):\n",
    "               self._x = x\n",
    "               self._y = y\n",
    "\n",
    "       def get_x(self):       \n",
    "               print('through get_x()')\n",
    "               return self._x\n",
    "       def set_x(self, x):\n",
    "               print('through set_x()')\n",
    "               self._x = x    \n",
    "       def get_y(self):       \n",
    "               print('through get_y()')\n",
    "               return self._y\n",
    "       def set_y(self, y):    \n",
    "               print('through set_x()')\n",
    "               self._y = y    \n",
    "\n",
    "p1 = Point(10, 20)\n",
    "print(p1.get_x())\n",
    "print(p1.get_y())\n"
   ]
  },
  {
   "cell_type": "markdown",
   "metadata": {},
   "source": [
    "<code style=\"background-color: yellow; color: black\">\n",
    "But, even though _x and _y are non-public attributes, we can access them directly from outside the class.\n",
    "<br> Check the following code."
   ]
  },
  {
   "cell_type": "code",
   "execution_count": null,
   "metadata": {},
   "outputs": [],
   "source": [
    "print (p1._x)\n",
    "print (p1._y)\n"
   ]
  },
  {
   "cell_type": "markdown",
   "metadata": {},
   "source": [
    "___"
   ]
  },
  {
   "cell_type": "markdown",
   "metadata": {},
   "source": [
    "## 3. Understanding the __ prefix\n",
    "\n",
    "- __width is a private attribute.\n",
    "- __width is not accessible directly from outside the class.\n",
    "- We need to use the getter and setter methods to access and modify __width.\n"
   ]
  },
  {
   "cell_type": "markdown",
   "metadata": {},
   "source": [
    "#### <p style=\"font-family: Arial; font-size:1.4em; background-color: yellow; color:black;\"> Problem #1.3 </p>\n",
    "\n",
    "#### Make a class Rectangle with the following attributes and constructor\n",
    "```\n",
    "class Rectangle:\n",
    "       def __init__(self, width, height):\n",
    "               self.__width = width\n",
    "               self.__height = height\n",
    "r1 = Rectangle(10, 20)\n",
    "print(r1.__width)\n",
    "print(r1.__height)\n",
    "```\n",
    "\n",
    "- Try to access the width and height directly \n",
    "- Answer to the above code. Is it possble to access the width and height directly? "
   ]
  },
  {
   "cell_type": "code",
   "execution_count": 18,
   "metadata": {},
   "outputs": [],
   "source": [
    "# Make the same code as above using the constructor\n",
    "# Answer to the above code. Is it possble to access the width and height directly? Like r1.width?\n"
   ]
  },
  {
   "cell_type": "markdown",
   "metadata": {},
   "source": [
    "---"
   ]
  },
  {
   "cell_type": "markdown",
   "metadata": {},
   "source": [
    "## 4. Understanding the property Class\n",
    "\n",
    "- The property class is a built-in class in Python that allows us to define properties for an object.\n",
    "- We can use the property class to create getter and setter methods for private attributes.\n",
    "- We can use the property class to create a read-only property for an object.\n"
   ]
  },
  {
   "cell_type": "markdown",
   "metadata": {},
   "source": [
    "### See the following code without property class"
   ]
  },
  {
   "cell_type": "code",
   "execution_count": null,
   "metadata": {},
   "outputs": [],
   "source": [
    "class Rectangle:\n",
    "    def __init__(self, width, height):\n",
    "        self.width = width\n",
    "        self.height = height\n",
    "    \n",
    "    def getwidth(self):\n",
    "        return self.width\n",
    "    \n",
    "    def setwidth(self, width):\n",
    "        self.width = width\n",
    "\n",
    "    def getheight(self):\n",
    "        return self.height\n",
    "    \n",
    "    def setheight(self, height):\n",
    "        self.height = height\n",
    "\n",
    "r1 = Rectangle(10, 20)\n",
    "print(r1.width)\n",
    "print(r1.height)\n",
    "\n"
   ]
  },
  {
   "cell_type": "markdown",
   "metadata": {},
   "source": [
    "#### <p style=\"font-family: Arial; font-size:1.4em; background-color: yellow; color:black;\"> Problem #1.4 </p>\n",
    "\n",
    "#### Access the width and height directly without using the getter and setter methods\n",
    "\n",
    "- Answer to the above code. Is it possble to access the width and height directly? "
   ]
  },
  {
   "cell_type": "markdown",
   "metadata": {},
   "source": [
    "---\n",
    "### See the following code with property class\n",
    "\n",
    "<code style=\"background-color: yellow; color: black\">\n",
    "height = property(getheight, setheight) <br>\n",
    "width = property(getwidth, setwidth)\n",
    "</code>"
   ]
  },
  {
   "cell_type": "markdown",
   "metadata": {},
   "source": [
    "```\n",
    "class Rectangle:\n",
    "    def __init__(self, width, height):\n",
    "        self._width = width\n",
    "        self._height = height\n",
    "    \n",
    "    def getwidth(self):\n",
    "        print (\"called getwidth\")\n",
    "        return self._width\n",
    "    \n",
    "    def setwidth(self, width):\n",
    "        print (\"called setwidth\")\n",
    "        self._width = width\n",
    "\n",
    "    def getheight(self):\n",
    "        print (\"called getheight\")\n",
    "        return self._height\n",
    "    \n",
    "    def setheight(self, height):\n",
    "        print (\"called setheight\")\n",
    "        self._height = height\n",
    "\n",
    "    height = property(getheight, setheight)\n",
    "    width = property(getwidth, setwidth)\n",
    "\n",
    "r1 = Rectangle(10, 20)\n",
    "print(r1.width)\n",
    "print(r1.height)\n",
    "```\n",
    "\n"
   ]
  },
  {
   "cell_type": "code",
   "execution_count": 1,
   "metadata": {},
   "outputs": [],
   "source": [
    "## Code the same code as above with property class\n"
   ]
  },
  {
   "cell_type": "markdown",
   "metadata": {},
   "source": [
    "#### <p style=\"font-family: Arial; font-size:1.4em; background-color: yellow; color:black;\"> Problem #1.5 </p>\n",
    "\n",
    "- Try to access the width and height directly in the above code.\n",
    "- Answer to the above code. Is it possble to access the width and height directly? \n",
    "\n",
    "- What is the difference between the above code and the code without property class?\n",
    "- Even though you can access the width and height directly, the \"called getwidth\" and \"called setwidth\" are printed. Why? Explain the reason."
   ]
  },
  {
   "cell_type": "code",
   "execution_count": null,
   "metadata": {},
   "outputs": [],
   "source": [
    "## answer to all the above questions. Is it possble to access the width and height directly? \n",
    "print (r1.height)\n",
    "print (r1.width)\n",
    "print (r1._width)"
   ]
  },
  {
   "cell_type": "markdown",
   "metadata": {},
   "source": [
    "***\n",
    "\n",
    "## <p style=\"background-color: grey; color: white \"> ◼️  Classes and Object-Oriented Programming </p>\n",
    "# <p style=\"font-family: Arial; font-size:1.4em;color:red;\"> 2. \"\\_\\_property\\_\\_\" Double Leading Underscore </p>\n"
   ]
  },
  {
   "cell_type": "markdown",
   "metadata": {},
   "source": [
    "# 1. __property__ Double Leading Underscore and Property Class\n",
    "\n",
    "### Make the following code and figure out the difference between the code with __property__ and the code without __property__."
   ]
  },
  {
   "cell_type": "code",
   "execution_count": 37,
   "metadata": {},
   "outputs": [],
   "source": [
    "class Point:\n",
    "       def __init__(self,x,y):\n",
    "               self.__x = x\n",
    "               self.__y = y\n",
    "\n",
    "       def get_x(self):       \n",
    "               print('through get_x()')\n",
    "               return self.__x\n",
    "       def set_x(self, x):\n",
    "               print('through set_x()')\n",
    "               self.__x = x      \n",
    "       def get_y(self):       \n",
    "               print('through get_y()')\n",
    "               return self.__y\n",
    "       def set_y(self, y):    \n",
    "               print('through set_y()')\n",
    "               self.__y = y    \n",
    "\n",
    "       x = property(get_x, set_x)\n",
    "       y = property(get_y, set_y)"
   ]
  },
  {
   "cell_type": "code",
   "execution_count": null,
   "metadata": {},
   "outputs": [],
   "source": [
    "\n",
    "p1 = Point(10, 20)\n",
    "print(p1.x)     # Even though x is a private attribute, we can access it through the getter method. Thus the \"through get_x()\" is printed.\n",
    "print(p1.y)     # Even though y is a private attribute, we can access it through the getter method. Thus the \"through get_y()\" is printed.\n",
    "print(p1.__x) "
   ]
  },
  {
   "cell_type": "markdown",
   "metadata": {},
   "source": [
    "#### <p style=\"font-family: Arial; font-size:1.4em; background-color: yellow; color:black;\"> Problem #2.1 </p>\n",
    "\n",
    "<code>\n",
    "- Answer to all the above questions. <br>\n",
    "- Is it possble to access the x and y directly? <br>\n",
    "- What is the difference between the above code and the code without __property__?<br>\n",
    "- Even though you can access the x and y directly, the \"called get_x\" and \"called set_x\" are printed. Why?\n",
    "</code>\n"
   ]
  },
  {
   "cell_type": "markdown",
   "metadata": {},
   "source": [
    "***\n",
    "\n",
    "## <p style=\"background-color: grey; color: white \"> ◼️  Classes and Object-Oriented Programming </p>\n",
    "# <p style=\"font-family: Arial; font-size:1.4em;color:red;\"> 3. Understanding the Wrapper Function </p>\n",
    "\n"
   ]
  },
  {
   "cell_type": "markdown",
   "metadata": {},
   "source": [
    "# Wrapper function is a function that takes another function as an argument and returns a new function.\n",
    "\n",
    "# Wrapper function example \n",
    "```\n",
    "def wrapper(func):\n",
    "    def inner_function(*args, **kwargs):\n",
    "        print('before function call')\n",
    "        result = func(*args, **kwargs)\n",
    "        print('after function call')\n",
    "        return result\n",
    "    return inner_function\n",
    "```"
   ]
  },
  {
   "cell_type": "markdown",
   "metadata": {},
   "source": [
    "![wrapper function](Images/wrapperfn.png)"
   ]
  },
  {
   "cell_type": "markdown",
   "metadata": {},
   "source": [
    "___"
   ]
  }
 ],
 "metadata": {
  "kernelspec": {
   "display_name": "Python 3.9.13 ('base')",
   "language": "python",
   "name": "python3"
  },
  "language_info": {
   "codemirror_mode": {
    "name": "ipython",
    "version": 3
   },
   "file_extension": ".py",
   "mimetype": "text/x-python",
   "name": "python",
   "nbconvert_exporter": "python",
   "pygments_lexer": "ipython3",
   "version": "3.9.17"
  },
  "orig_nbformat": 4,
  "vscode": {
   "interpreter": {
    "hash": "32cd87c0c55905266dc8232ebf1148f668af0d9324249c125246585210a29cd6"
   }
  }
 },
 "nbformat": 4,
 "nbformat_minor": 2
}
